{
  "nbformat": 4,
  "nbformat_minor": 0,
  "metadata": {
    "colab": {
      "provenance": []
    },
    "kernelspec": {
      "name": "python3",
      "display_name": "Python 3"
    },
    "language_info": {
      "name": "python"
    }
  },
  "cells": [
    {
      "cell_type": "code",
      "source": [
        "%pip -q install google-genai"
      ],
      "metadata": {
        "id": "UCCbECexLk_h"
      },
      "execution_count": 32,
      "outputs": []
    },
    {
      "cell_type": "code",
      "source": [
        "# Configura a API Key do Google Gemini\n",
        "\n",
        "import os\n",
        "from google.colab import userdata\n",
        "\n",
        "os.environ[\"GOOGLE_API_KEY\"] = userdata.get('GOOGLE_API_KEY')"
      ],
      "metadata": {
        "id": "NfCqHo1tLk8P"
      },
      "execution_count": 2,
      "outputs": []
    },
    {
      "cell_type": "code",
      "source": [
        "# Configura o cliente da SDK do Gemini\n",
        "\n",
        "from google import genai\n",
        "\n",
        "client = genai.Client()\n",
        "\n",
        "MODEL_ID = \"gemini-2.0-flash\""
      ],
      "metadata": {
        "id": "bV4w0H5TLk5g"
      },
      "execution_count": 3,
      "outputs": []
    },
    {
      "cell_type": "code",
      "source": [
        "# Pergunta ao Gemini uma informação mais recente que seu conhecimento\n",
        "\n",
        "from IPython.display import HTML, Markdown\n",
        "\n",
        "# Perguntar pro modelo quando é a próxima imersão de IA ###############################################\n",
        "resposta = client.models.generate_content(\n",
        "    model=MODEL_ID,\n",
        "    contents='Quando é a próxima Imersão IA com Google Gemini da Alura?',\n",
        ")\n",
        "\n",
        "# Exibe a resposta na tela\n",
        "display(Markdown(f\"Resposta:\\n {resposta.text}\"))"
      ],
      "metadata": {
        "id": "HwVP7Xi34Zuw",
        "colab": {
          "base_uri": "https://localhost:8080/",
          "height": 180
        },
        "outputId": "bd1df000-0375-4820-89b9-7b2c0b4da626"
      },
      "execution_count": 4,
      "outputs": [
        {
          "output_type": "display_data",
          "data": {
            "text/plain": [
              "<IPython.core.display.Markdown object>"
            ],
            "text/markdown": "Resposta:\n A Alura não tem uma data fixa para a Imersão IA com Google Gemini. A melhor forma de saber quando a próxima edição será realizada é:\n\n*   **Acompanhar as redes sociais da Alura:** Fique de olho no Instagram, LinkedIn, Twitter e Facebook da Alura, pois eles costumam anunciar novas edições por lá.\n*   **Assinar a newsletter da Alura:** Cadastre seu e-mail no site da Alura para receber novidades sobre cursos, eventos e imersões.\n*   **Consultar o site da Alura:** Visite regularmente o site da Alura e procure na seção de \"Imersões\" ou \"Eventos\" para verificar se há alguma edição programada.\n*   **Entrar na comunidade da Alura:** Participe da comunidade da Alura no Discord ou em outras plataformas para ficar por dentro das novidades e interagir com outros alunos.\n\nAssim que a Alura anunciar uma nova edição, você ficará sabendo!"
          },
          "metadata": {}
        }
      ]
    },
    {
      "cell_type": "code",
      "source": [
        "# Pergunta ao Gemini uma informação utilizando a busca do Google como contexto\n",
        "\n",
        "response = client.models.generate_content(\n",
        "    model=MODEL_ID,\n",
        "    contents='Quando é a próxima Imersão IA com Google Gemini da Alura?',\n",
        "    # Inserir a tool de busca do Google ###############################################\n",
        "    config={\"tools\": [{\"google_search\": {}}]}\n",
        ")\n",
        "\n",
        "# Exibe a resposta na tela\n",
        "display(Markdown(f\"Resposta:\\n {response.text}\"))"
      ],
      "metadata": {
        "id": "yXaZd7iZ4ftw",
        "colab": {
          "base_uri": "https://localhost:8080/",
          "height": 64
        },
        "outputId": "ce7e5b05-d661-4a40-95dd-5ed268084688"
      },
      "execution_count": 5,
      "outputs": [
        {
          "output_type": "display_data",
          "data": {
            "text/plain": [
              "<IPython.core.display.Markdown object>"
            ],
            "text/markdown": "Resposta:\n A próxima Imersão IA com Google Gemini da Alura aconteceu de 12 a 16 de maio de 2025. As inscrições para esta edição foram até o dia 11 de maio de 2025. A Alura, em parceria com o Google, oferece este evento online e gratuito para ensinar a aplicar IA generativa com o Google Gemini."
          },
          "metadata": {}
        }
      ]
    },
    {
      "cell_type": "code",
      "source": [
        "# Exibe a busca\n",
        "print(f\"Busca realizada: {response.candidates[0].grounding_metadata.web_search_queries}\")\n",
        "# Exibe as URLs nas quais ele se baseou\n",
        "print(f\"Páginas utilizadas na resposta: {', '.join([site.web.title for site in response.candidates[0].grounding_metadata.grounding_chunks])}\")\n",
        "print()\n",
        "display(HTML(response.candidates[0].grounding_metadata.search_entry_point.rendered_content))"
      ],
      "metadata": {
        "id": "xHSNlTd84heJ",
        "colab": {
          "base_uri": "https://localhost:8080/",
          "height": 117
        },
        "outputId": "2ad2110e-beee-4c9e-ecbe-760bc7f4ecae"
      },
      "execution_count": 6,
      "outputs": [
        {
          "output_type": "stream",
          "name": "stdout",
          "text": [
            "Busca realizada: ['Próxima Imersão IA com Google Gemini Alura']\n",
            "Páginas utilizadas na resposta: thallesbenicio.com.br\n",
            "\n"
          ]
        },
        {
          "output_type": "display_data",
          "data": {
            "text/plain": [
              "<IPython.core.display.HTML object>"
            ],
            "text/html": [
              "<style>\n",
              ".container {\n",
              "  align-items: center;\n",
              "  border-radius: 8px;\n",
              "  display: flex;\n",
              "  font-family: Google Sans, Roboto, sans-serif;\n",
              "  font-size: 14px;\n",
              "  line-height: 20px;\n",
              "  padding: 8px 12px;\n",
              "}\n",
              ".chip {\n",
              "  display: inline-block;\n",
              "  border: solid 1px;\n",
              "  border-radius: 16px;\n",
              "  min-width: 14px;\n",
              "  padding: 5px 16px;\n",
              "  text-align: center;\n",
              "  user-select: none;\n",
              "  margin: 0 8px;\n",
              "  -webkit-tap-highlight-color: transparent;\n",
              "}\n",
              ".carousel {\n",
              "  overflow: auto;\n",
              "  scrollbar-width: none;\n",
              "  white-space: nowrap;\n",
              "  margin-right: -12px;\n",
              "}\n",
              ".headline {\n",
              "  display: flex;\n",
              "  margin-right: 4px;\n",
              "}\n",
              ".gradient-container {\n",
              "  position: relative;\n",
              "}\n",
              ".gradient {\n",
              "  position: absolute;\n",
              "  transform: translate(3px, -9px);\n",
              "  height: 36px;\n",
              "  width: 9px;\n",
              "}\n",
              "@media (prefers-color-scheme: light) {\n",
              "  .container {\n",
              "    background-color: #fafafa;\n",
              "    box-shadow: 0 0 0 1px #0000000f;\n",
              "  }\n",
              "  .headline-label {\n",
              "    color: #1f1f1f;\n",
              "  }\n",
              "  .chip {\n",
              "    background-color: #ffffff;\n",
              "    border-color: #d2d2d2;\n",
              "    color: #5e5e5e;\n",
              "    text-decoration: none;\n",
              "  }\n",
              "  .chip:hover {\n",
              "    background-color: #f2f2f2;\n",
              "  }\n",
              "  .chip:focus {\n",
              "    background-color: #f2f2f2;\n",
              "  }\n",
              "  .chip:active {\n",
              "    background-color: #d8d8d8;\n",
              "    border-color: #b6b6b6;\n",
              "  }\n",
              "  .logo-dark {\n",
              "    display: none;\n",
              "  }\n",
              "  .gradient {\n",
              "    background: linear-gradient(90deg, #fafafa 15%, #fafafa00 100%);\n",
              "  }\n",
              "}\n",
              "@media (prefers-color-scheme: dark) {\n",
              "  .container {\n",
              "    background-color: #1f1f1f;\n",
              "    box-shadow: 0 0 0 1px #ffffff26;\n",
              "  }\n",
              "  .headline-label {\n",
              "    color: #fff;\n",
              "  }\n",
              "  .chip {\n",
              "    background-color: #2c2c2c;\n",
              "    border-color: #3c4043;\n",
              "    color: #fff;\n",
              "    text-decoration: none;\n",
              "  }\n",
              "  .chip:hover {\n",
              "    background-color: #353536;\n",
              "  }\n",
              "  .chip:focus {\n",
              "    background-color: #353536;\n",
              "  }\n",
              "  .chip:active {\n",
              "    background-color: #464849;\n",
              "    border-color: #53575b;\n",
              "  }\n",
              "  .logo-light {\n",
              "    display: none;\n",
              "  }\n",
              "  .gradient {\n",
              "    background: linear-gradient(90deg, #1f1f1f 15%, #1f1f1f00 100%);\n",
              "  }\n",
              "}\n",
              "</style>\n",
              "<div class=\"container\">\n",
              "  <div class=\"headline\">\n",
              "    <svg class=\"logo-light\" width=\"18\" height=\"18\" viewBox=\"9 9 35 35\" fill=\"none\" xmlns=\"http://www.w3.org/2000/svg\">\n",
              "      <path fill-rule=\"evenodd\" clip-rule=\"evenodd\" d=\"M42.8622 27.0064C42.8622 25.7839 42.7525 24.6084 42.5487 23.4799H26.3109V30.1568H35.5897C35.1821 32.3041 33.9596 34.1222 32.1258 35.3448V39.6864H37.7213C40.9814 36.677 42.8622 32.2571 42.8622 27.0064V27.0064Z\" fill=\"#4285F4\"/>\n",
              "      <path fill-rule=\"evenodd\" clip-rule=\"evenodd\" d=\"M26.3109 43.8555C30.9659 43.8555 34.8687 42.3195 37.7213 39.6863L32.1258 35.3447C30.5898 36.3792 28.6306 37.0061 26.3109 37.0061C21.8282 37.0061 18.0195 33.9811 16.6559 29.906H10.9194V34.3573C13.7563 39.9841 19.5712 43.8555 26.3109 43.8555V43.8555Z\" fill=\"#34A853\"/>\n",
              "      <path fill-rule=\"evenodd\" clip-rule=\"evenodd\" d=\"M16.6559 29.8904C16.3111 28.8559 16.1074 27.7588 16.1074 26.6146C16.1074 25.4704 16.3111 24.3733 16.6559 23.3388V18.8875H10.9194C9.74388 21.2072 9.06992 23.8247 9.06992 26.6146C9.06992 29.4045 9.74388 32.022 10.9194 34.3417L15.3864 30.8621L16.6559 29.8904V29.8904Z\" fill=\"#FBBC05\"/>\n",
              "      <path fill-rule=\"evenodd\" clip-rule=\"evenodd\" d=\"M26.3109 16.2386C28.85 16.2386 31.107 17.1164 32.9095 18.8091L37.8466 13.8719C34.853 11.082 30.9659 9.3736 26.3109 9.3736C19.5712 9.3736 13.7563 13.245 10.9194 18.8875L16.6559 23.3388C18.0195 19.2636 21.8282 16.2386 26.3109 16.2386V16.2386Z\" fill=\"#EA4335\"/>\n",
              "    </svg>\n",
              "    <svg class=\"logo-dark\" width=\"18\" height=\"18\" viewBox=\"0 0 48 48\" xmlns=\"http://www.w3.org/2000/svg\">\n",
              "      <circle cx=\"24\" cy=\"23\" fill=\"#FFF\" r=\"22\"/>\n",
              "      <path d=\"M33.76 34.26c2.75-2.56 4.49-6.37 4.49-11.26 0-.89-.08-1.84-.29-3H24.01v5.99h8.03c-.4 2.02-1.5 3.56-3.07 4.56v.75l3.91 2.97h.88z\" fill=\"#4285F4\"/>\n",
              "      <path d=\"M15.58 25.77A8.845 8.845 0 0 0 24 31.86c1.92 0 3.62-.46 4.97-1.31l4.79 3.71C31.14 36.7 27.65 38 24 38c-5.93 0-11.01-3.4-13.45-8.36l.17-1.01 4.06-2.85h.8z\" fill=\"#34A853\"/>\n",
              "      <path d=\"M15.59 20.21a8.864 8.864 0 0 0 0 5.58l-5.03 3.86c-.98-2-1.53-4.25-1.53-6.64 0-2.39.55-4.64 1.53-6.64l1-.22 3.81 2.98.22 1.08z\" fill=\"#FBBC05\"/>\n",
              "      <path d=\"M24 14.14c2.11 0 4.02.75 5.52 1.98l4.36-4.36C31.22 9.43 27.81 8 24 8c-5.93 0-11.01 3.4-13.45 8.36l5.03 3.85A8.86 8.86 0 0 1 24 14.14z\" fill=\"#EA4335\"/>\n",
              "    </svg>\n",
              "    <div class=\"gradient-container\"><div class=\"gradient\"></div></div>\n",
              "  </div>\n",
              "  <div class=\"carousel\">\n",
              "    <a class=\"chip\" href=\"https://vertexaisearch.cloud.google.com/grounding-api-redirect/AbF9wXEBY9XjATFtQMvol0cohFUngfU_FH4iDmZyO6jxV4v3WyO2D8hKVllme3JAn50Ep8DS6cc6nH7ctTlgbRdONmCEReVlLBPiwDefoUhkfc7H_V_Pg4lrmr_nNlg70fPewued2inTlPwJ__ACTeE6ipPU3Bwsi17o2QEC2yq7QyP4MROu1NQqsljYmfP1zr5t7w5-di9rNv8ZaOfeIPkylzENR0g0P31sCantLD6oCQovVuE_u8lUElg=\">Próxima Imersão IA com Google Gemini Alura</a>\n",
              "  </div>\n",
              "</div>\n"
            ]
          },
          "metadata": {}
        }
      ]
    },
    {
      "cell_type": "code",
      "source": [
        "# Instalar Framework ADK de agentes do Google ################################################\n",
        "!pip install -q google-adk"
      ],
      "metadata": {
        "id": "hvZ3UnPI4jhJ",
        "colab": {
          "base_uri": "https://localhost:8080/"
        },
        "outputId": "58cc907d-8f1c-4550-9db4-b6e9b8c1e314"
      },
      "execution_count": 7,
      "outputs": [
        {
          "output_type": "stream",
          "name": "stdout",
          "text": [
            "\u001b[?25l   \u001b[90m━━━━━━━━━━━━━━━━━━━━━━━━━━━━━━━━━━━━━━━━\u001b[0m \u001b[32m0.0/1.2 MB\u001b[0m \u001b[31m?\u001b[0m eta \u001b[36m-:--:--\u001b[0m\r\u001b[2K   \u001b[91m━━━━━━━━━━━━━━━━━━━━━━━━━━━━━━━━━━━━━━━\u001b[0m\u001b[91m╸\u001b[0m \u001b[32m1.2/1.2 MB\u001b[0m \u001b[31m50.1 MB/s\u001b[0m eta \u001b[36m0:00:01\u001b[0m\r\u001b[2K   \u001b[90m━━━━━━━━━━━━━━━━━━━━━━━━━━━━━━━━━━━━━━━━\u001b[0m \u001b[32m1.2/1.2 MB\u001b[0m \u001b[31m29.7 MB/s\u001b[0m eta \u001b[36m0:00:00\u001b[0m\n",
            "\u001b[?25h\u001b[?25l   \u001b[90m━━━━━━━━━━━━━━━━━━━━━━━━━━━━━━━━━━━━━━━━\u001b[0m \u001b[32m0.0/232.1 kB\u001b[0m \u001b[31m?\u001b[0m eta \u001b[36m-:--:--\u001b[0m\r\u001b[2K   \u001b[90m━━━━━━━━━━━━━━━━━━━━━━━━━━━━━━━━━━━━━━━━\u001b[0m \u001b[32m232.1/232.1 kB\u001b[0m \u001b[31m14.5 MB/s\u001b[0m eta \u001b[36m0:00:00\u001b[0m\n",
            "\u001b[2K   \u001b[90m━━━━━━━━━━━━━━━━━━━━━━━━━━━━━━━━━━━━━━━━\u001b[0m \u001b[32m95.2/95.2 kB\u001b[0m \u001b[31m7.0 MB/s\u001b[0m eta \u001b[36m0:00:00\u001b[0m\n",
            "\u001b[2K   \u001b[90m━━━━━━━━━━━━━━━━━━━━━━━━━━━━━━━━━━━━━━━━\u001b[0m \u001b[32m217.1/217.1 kB\u001b[0m \u001b[31m14.7 MB/s\u001b[0m eta \u001b[36m0:00:00\u001b[0m\n",
            "\u001b[2K   \u001b[90m━━━━━━━━━━━━━━━━━━━━━━━━━━━━━━━━━━━━━━━━\u001b[0m \u001b[32m334.1/334.1 kB\u001b[0m \u001b[31m23.2 MB/s\u001b[0m eta \u001b[36m0:00:00\u001b[0m\n",
            "\u001b[2K   \u001b[90m━━━━━━━━━━━━━━━━━━━━━━━━━━━━━━━━━━━━━━━━\u001b[0m \u001b[32m125.1/125.1 kB\u001b[0m \u001b[31m8.6 MB/s\u001b[0m eta \u001b[36m0:00:00\u001b[0m\n",
            "\u001b[2K   \u001b[90m━━━━━━━━━━━━━━━━━━━━━━━━━━━━━━━━━━━━━━━━\u001b[0m \u001b[32m65.8/65.8 kB\u001b[0m \u001b[31m4.2 MB/s\u001b[0m eta \u001b[36m0:00:00\u001b[0m\n",
            "\u001b[2K   \u001b[90m━━━━━━━━━━━━━━━━━━━━━━━━━━━━━━━━━━━━━━━━\u001b[0m \u001b[32m119.0/119.0 kB\u001b[0m \u001b[31m8.6 MB/s\u001b[0m eta \u001b[36m0:00:00\u001b[0m\n",
            "\u001b[2K   \u001b[90m━━━━━━━━━━━━━━━━━━━━━━━━━━━━━━━━━━━━━━━━\u001b[0m \u001b[32m194.9/194.9 kB\u001b[0m \u001b[31m14.5 MB/s\u001b[0m eta \u001b[36m0:00:00\u001b[0m\n",
            "\u001b[2K   \u001b[90m━━━━━━━━━━━━━━━━━━━━━━━━━━━━━━━━━━━━━━━━\u001b[0m \u001b[32m62.5/62.5 kB\u001b[0m \u001b[31m4.7 MB/s\u001b[0m eta \u001b[36m0:00:00\u001b[0m\n",
            "\u001b[2K   \u001b[90m━━━━━━━━━━━━━━━━━━━━━━━━━━━━━━━━━━━━━━━━\u001b[0m \u001b[32m103.3/103.3 kB\u001b[0m \u001b[31m8.2 MB/s\u001b[0m eta \u001b[36m0:00:00\u001b[0m\n",
            "\u001b[2K   \u001b[90m━━━━━━━━━━━━━━━━━━━━━━━━━━━━━━━━━━━━━━━━\u001b[0m \u001b[32m44.4/44.4 kB\u001b[0m \u001b[31m3.0 MB/s\u001b[0m eta \u001b[36m0:00:00\u001b[0m\n",
            "\u001b[2K   \u001b[90m━━━━━━━━━━━━━━━━━━━━━━━━━━━━━━━━━━━━━━━━\u001b[0m \u001b[32m72.0/72.0 kB\u001b[0m \u001b[31m5.1 MB/s\u001b[0m eta \u001b[36m0:00:00\u001b[0m\n",
            "\u001b[?25h"
          ]
        }
      ]
    },
    {
      "cell_type": "code",
      "execution_count": 8,
      "metadata": {
        "id": "aePV2bdfDeoW"
      },
      "outputs": [],
      "source": [
        "from google.adk.agents import Agent\n",
        "from google.adk.runners import Runner\n",
        "from google.adk.sessions import InMemorySessionService\n",
        "from google.adk.tools import google_search\n",
        "from google.genai import types  # Para criar conteúdos (Content e Part)\n",
        "from datetime import date\n",
        "import textwrap # Para formatar melhor a saída de texto\n",
        "from IPython.display import display, Markdown # Para exibir texto formatado no Colab\n",
        "import requests # Para fazer requisições HTTP\n",
        "import warnings\n",
        "\n",
        "warnings.filterwarnings(\"ignore\")"
      ]
    },
    {
      "cell_type": "code",
      "source": [
        "# Função auxiliar que envia uma mensagem para um agente via Runner e retorna a resposta final\n",
        "def call_agent(agent: Agent, message_text: str) -> str:\n",
        "    # Cria um serviço de sessão em memória\n",
        "    session_service = InMemorySessionService()\n",
        "    # Cria uma nova sessão (você pode personalizar os IDs conforme necessário)\n",
        "    session = session_service.create_session(app_name=agent.name, user_id=\"user1\", session_id=\"session1\")\n",
        "    # Cria um Runner para o agente\n",
        "    runner = Runner(agent=agent, app_name=agent.name, session_service=session_service)\n",
        "    # Cria o conteúdo da mensagem de entrada\n",
        "    content = types.Content(role=\"user\", parts=[types.Part(text=message_text)])\n",
        "\n",
        "    final_response = \"\"\n",
        "    # Itera assincronamente pelos eventos retornados durante a execução do agente\n",
        "    for event in runner.run(user_id=\"user1\", session_id=\"session1\", new_message=content):\n",
        "        if event.is_final_response():\n",
        "          for part in event.content.parts:\n",
        "            if part.text is not None:\n",
        "              final_response += part.text\n",
        "              final_response += \"\\n\"\n",
        "    return final_response"
      ],
      "metadata": {
        "id": "_xP4lWhsS5ko"
      },
      "execution_count": 9,
      "outputs": []
    },
    {
      "cell_type": "code",
      "source": [
        "# Função auxiliar para exibir texto formatado em Markdown no Colab\n",
        "def to_markdown(text):\n",
        "  text = text.replace('•', '  *')\n",
        "  return Markdown(textwrap.indent(text, '> ', predicate=lambda _: True))"
      ],
      "metadata": {
        "id": "8dosiodaxfFR"
      },
      "execution_count": 10,
      "outputs": []
    },
    {
      "cell_type": "code",
      "source": [
        "##########################################\n",
        "# --- Agente 1: Buscador de informaçoes --- #\n",
        "##########################################\n",
        "def agente_buscador(duvida, data_de_hoje):\n",
        "\n",
        "    buscador = Agent(\n",
        "        name=\"agente_buscador\",\n",
        "        model=\"gemini-2.0-flash\",\n",
        "        instruction=\"\"\"\n",
        "        Você é um assistente da família, que convive com idoso. A sua tarefa é usar a ferramenta de busca do google (google_search)\n",
        "        para recuperar as notícias muito relevantes sobre a saúde do idoso.\n",
        "        Foque em no máximo 5 notícias relevantes, com base na quantidade e entusiasmo das notícias sobre ele.\n",
        "        Se um tema tiver poucas notícias ou reações entusiasmadas, é possível que ele não seja tão relevante assim\n",
        "        e pode ser substituído por outro que tenha mais.\n",
        "        Essas notícias relevantes devem ser atuais, de no máximo um ano antes da data de hoje.\n",
        "        \"\"\",\n",
        "        description=\"Agente que busca informações no Google\",\n",
        "        tools=[google_search]\n",
        "    )\n",
        "\n",
        "    entrada_do_agente_buscador = f\"Dúvida: {duvida}\\nData de hoje: {data_de_hoje}\"\n",
        "\n",
        "    noticias = call_agent(buscador, entrada_do_agente_buscador)\n",
        "    return noticias"
      ],
      "metadata": {
        "id": "o8bqIfi_DyH8"
      },
      "execution_count": 55,
      "outputs": []
    },
    {
      "cell_type": "code",
      "source": [
        "################################################\n",
        "# --- Agente 2: Planejador de posts --- #\n",
        "################################################\n",
        "def agente_planejador(duvida, noticias_buscados):\n",
        "    planejador = Agent(\n",
        "        name=\"agente_planejador\",\n",
        "        model=\"gemini-2.0-flash\",\n",
        "        # Inserir as instruções do Agente Planejador #################################################\n",
        "        instruction=\"\"\"\n",
        "        Você é um planejador de post do Instagram, especialista em saúde do idoso. Com base na lista de\n",
        "        notícias mais recentes e relevantes buscador, você deve:\n",
        "        usar a ferramenta de busca do Google (google_search) para criar um plano sobre\n",
        "        quais são os pontos mais relevantes que poderíamos abordar em um conteúdo sobre\n",
        "        cada um deles. Você também pode usar o (google_search) para encontrar mais\n",
        "        informações sobre os temas e aprofundar.\n",
        "        Ao final, você irá escolher o tema mais relevante entre eles com base nas suas pesquisas\n",
        "        e retornar esse tema, seus pontos mais relevantes, e um plano com os assuntos\n",
        "        a serem abordados no conteúdo que será escrito posteriormente.\n",
        "        \"\"\",\n",
        "        description=\"Agente que planeja post\",\n",
        "        tools=[google_search]\n",
        "    )\n",
        "\n",
        "    entrada_do_agente_planejador = f\"Dúvida:{duvida}\\nNotícias buscados: {noticias_buscados}\"\n",
        "    # Executa o agente\n",
        "    plano_do_post = call_agent(planejador, entrada_do_agente_planejador)\n",
        "    return plano_do_post"
      ],
      "metadata": {
        "id": "y3VO1uo5_ghO"
      },
      "execution_count": 56,
      "outputs": []
    },
    {
      "cell_type": "code",
      "source": [
        "######################################\n",
        "# --- Agente 3: Redator do Post --- #\n",
        "######################################\n",
        "def agente_redator(duvida, plano_de_post):\n",
        "    redator = Agent(\n",
        "        name=\"agente_redator\",\n",
        "        model=\"gemini-2.0-flash\",\n",
        "        instruction=\"\"\"\n",
        "            Você é um Redator Criativo, empático e atencioso, especializado em criar post para o Instagram,\n",
        "            direcionado para famílias que convivem com idosos.\n",
        "            Você escreve conteúdo para a família do idoso, que não conhece os sintomas ou sinais de problemas de saúde,\n",
        "            que um idoso pode apresentar.\n",
        "            Utilize o tema fornecido no plano de conteúdo e os pontos mais relevantes fornecidos e, com base nisso,\n",
        "            escreva um rascunho de conteúdo para a família sobre o tema indicado.\n",
        "            O conteúdo deve ser informativo, com linguagem simples, com descrição de detalhes imperceptíveis pela família,\n",
        "            de problemas cardiológicos ou outros e incluir 2 a 4 hashtags no final.\n",
        "                        \"\"\",\n",
        "        description=\"Agente redator de conteúdos informativos para famílias\"\n",
        "    )\n",
        "    entrada_do_agente_redator = f\"Dúvida: {duvida}\\nPlano de conteúdo: {plano_de_post}\"\n",
        "    # Executa o agente\n",
        "    rascunho = call_agent(redator, entrada_do_agente_redator)\n",
        "    return rascunho"
      ],
      "metadata": {
        "id": "uOqlg2TRLVh1"
      },
      "execution_count": 61,
      "outputs": []
    },
    {
      "cell_type": "code",
      "source": [
        "##########################################\n",
        "# --- Agente 4: Revisor de Qualidade --- #\n",
        "##########################################\n",
        "def agente_revisor(duvida, rascunho_gerado):\n",
        "    revisor = Agent(\n",
        "        name=\"agente_revisor\",\n",
        "        model=\"gemini-2.0-flash\",\n",
        "        instruction=\"\"\"\n",
        "            Você é um Editor e Revisor de Conteúdo meticuloso, especializado em criar posts de conteúdos informativos, com foco na saúde do idoso.\n",
        "            Por ter um público variado, dentre várias idades, use um tom de escrita adequado.\n",
        "            Revise o rascunho do conteúdo abaixo sobre o tópico indicado, verificando clareza, concisão, correção e tom.\n",
        "            Se o rascunho estiver bom, responda apenas 'O rascunho está ótimo e pronto para publicar!'.\n",
        "            Caso haja problemas, aponte-os e sugira melhorias.\n",
        "            \"\"\",\n",
        "        description=\"Agente revisor de conteúdo informativo.\"\n",
        "    )\n",
        "    entrada_do_agente_revisor = f\"Dúvida: {duvida}\\nRascunho: {rascunho_gerado}\"\n",
        "    # Executa o agente\n",
        "    texto_revisado = call_agent(revisor, entrada_do_agente_revisor)\n",
        "    return texto_revisado"
      ],
      "metadata": {
        "id": "_aTb1SdkLeT6"
      },
      "execution_count": 62,
      "outputs": []
    },
    {
      "cell_type": "code",
      "source": [
        "data_de_hoje = date.today().strftime(\"%d/%m/%Y\")\n",
        "\n",
        "print(\"🚀 Iniciando o Sistema de Criação de conteúdo sobre saúde do idoso com 4 Agentes 🚀\")\n",
        "\n",
        "# --- Obter o Tópico do Usuário ---\n",
        "duvida = input(\"❓ Por favor, sobre o quê está com dúvidas hoje: \")\n",
        "\n",
        "# Inserir lógica do sistema de agentes ################################################\n",
        "if not duvida:\n",
        "    print(\"Você esqueceu de digitar sua dúvida!\")\n",
        "else:\n",
        "    print(f\"Maravilha! Vamos então te ajudar a entender sobre {duvida}\")\n",
        "\n",
        "    noticias_buscados = agente_buscador(duvida, data_de_hoje)\n",
        "    print(\"\\n--- 📝 Resultado do Agente 1 (Buscador) ---\\n\")\n",
        "    display(to_markdown(noticias_buscados))\n",
        "    print(\"--------------------------------------------------------------\")\n",
        "\n",
        "    plano_de_post = agente_planejador(duvida, noticias_buscados)\n",
        "    print(\"\\n--- 📝 Resultado do Agente 2 (Planejador) ---\\n\")\n",
        "    display(to_markdown(plano_de_post))\n",
        "    print(\"--------------------------------------------------------------\")\n",
        "\n",
        "    rascunho_de_post = agente_redator(duvida, plano_de_post)\n",
        "    print(\"\\n--- 📝 Resultado do Agente 3 (Redator) ---\\n\")\n",
        "    display(to_markdown(rascunho_de_post))\n",
        "    print(\"--------------------------------------------------------------\")\n",
        "\n",
        "    post_final = agente_revisor(duvida, rascunho_de_post)\n",
        "    print(\"\\n--- 📝 Resultado do Agente 4 (Revisor) ---\\n\")\n",
        "    display(to_markdown(post_final))\n",
        "    print(\"--------------------------------------------------------------\")"
      ],
      "metadata": {
        "id": "630ummxz4myx",
        "colab": {
          "base_uri": "https://localhost:8080/",
          "height": 1000
        },
        "outputId": "99b44fd4-5559-4761-e13c-51c37fd48f6c"
      },
      "execution_count": 67,
      "outputs": [
        {
          "output_type": "stream",
          "name": "stdout",
          "text": [
            "🚀 Iniciando o Sistema de Criação de conteúdo sobre saúde do idoso com 4 Agentes 🚀\n",
            "❓ Por favor, sobre o quê está com dúvidas hoje: dor pernas\n",
            "Maravilha! Vamos então te ajudar a entender sobre dor pernas\n",
            "\n",
            "--- 📝 Resultado do Agente 1 (Buscador) ---\n",
            "\n"
          ]
        },
        {
          "output_type": "display_data",
          "data": {
            "text/plain": [
              "<IPython.core.display.Markdown object>"
            ],
            "text/markdown": "> Para te ajudar com essa dúvida, vou buscar algumas notícias relevantes sobre dores nas pernas em idosos, publicadas nos últimos 12 meses.\n> \n> \n> Com base nas notícias mais recentes, aqui estão alguns pontos relevantes sobre dores nas pernas em idosos:\n> \n>  **1. Causas Comuns:**\n> \n>  *   **Problemas Musculares:** Dores musculares, como a dor miofascial, são causas frequentes, muitas vezes ligadas ao sedentarismo, excesso de esforço ou estresse. Cãibras, especialmente noturnas, também são comuns.\n>  *   **Insuficiência Venosa Crônica:** Dificuldade das veias em bombear o sangue de volta ao coração, causando dor e inchaço.\n>  *   **Problemas Articulares:**  Artrite e osteoartrite são causas comuns de dor crônica nas articulações, levando a dor, rigidez e inchaço.\n>  *   **Neuropatia Periférica:** Danos nos nervos periféricos podem causar dor, formigamento e fraqueza muscular, elevando o risco de quedas. Diabetes e alcoolismo são fatores de risco.\n>  *   **Doença Arterial Periférica (DAP):**  Causa dor devido ao fluxo sanguíneo reduzido nas pernas, especialmente à noite.\n>  *   **Outras Condições:** Hérnia de disco, fibromialgia, lipedema (acúmulo de gordura nas pernas) e problemas de coluna também podem causar dor nas pernas.\n>  *   **Desidratação:** A falta de água pode levar a cãibras e dores nas pernas.\n> \n>  **2. Tratamentos e Alívio:**\n> \n>  *   **Exercícios:**\n>  *   **Caminhadas:** Melhoram a circulação, fortalecem os músculos e o equilíbrio.\n>  *   **Alongamentos:** Aumentam a flexibilidade e aliviam dores musculares.\n>  *   **Exercícios de Força:** Ajudam a manter a massa muscular e a densidade óssea.\n>  *   **Exercícios na Cadeira:** Fortalecem a musculatura e melhoram a flexibilidade, sendo ideais para quem tem dificuldade de se locomover.\n>  *   **Fisioterapia:** Importante para reabilitação e alívio da dor.\n>  *   **Medicamentos:**\n>  *   **Analgésicos e Anti-inflamatórios:**  Aliviam a dor e a inflamação.\n>  *   **Relaxantes Musculares:** Ajudam a diminuir a rigidez muscular.\n>  *   **Tratamentos Minimamente Invasivos:** Angioplastia e colocação de stents podem ser recomendados para melhorar o fluxo sanguíneo em casos de DAP.\n>  *   **Outras Abordagens:**\n>  *   **Mudança de Hábitos:** Uso de calçados adequados e evitar o sedentarismo.\n>  *   **Compressas Quentes:**  Aliviam dores musculares.\n>  *   **Perda de Peso:** Reduz a pressão sobre as articulações e melhora a circulação.\n>  *   **Neuroestimulação:**  Pode ser usada para dores lombares crônicas.\n> \n>  **3. Recomendações:**\n> \n>  *   **Consultar um Médico:** É fundamental para identificar a causa da dor e iniciar o tratamento adequado. Um clínico geral ou geriatra pode ser um bom ponto de partida.\n>  *   **Não Ignorar a Dor:** A dor não é uma parte inevitável do envelhecimento e pode ser tratada.\n>  *   **Abordagem Multidisciplinar:**  O tratamento da dor pode envolver médicos, fisioterapeutas, terapeutas ocupacionais e outros profissionais.\n>  *   **Atenção à Saúde Emocional:** A dor crônica pode levar ao isolamento e à depressão, sendo importante buscar apoio psicológico se necessário.\n> \n"
          },
          "metadata": {}
        },
        {
          "output_type": "stream",
          "name": "stdout",
          "text": [
            "--------------------------------------------------------------\n",
            "\n",
            "--- 📝 Resultado do Agente 2 (Planejador) ---\n",
            "\n"
          ]
        },
        {
          "output_type": "display_data",
          "data": {
            "text/plain": [
              "<IPython.core.display.Markdown object>"
            ],
            "text/markdown": "> Para criar um plano de conteúdo relevante e informativo sobre dores nas pernas em idosos para o Instagram, podemos abordar os seguintes temas:\n> \n>  **1. Causas Comuns de Dores nas Pernas em Idosos:**\n> \n>  *   **Conteúdo:**\n>  *   Explicar as causas mais comuns das dores nas pernas em idosos: problemas musculares (dor miofascial, cãibras), insuficiência venosa crônica, problemas articulares (artrite, osteoartrite), neuropatia periférica, doença arterial periférica (DAP), hérnia de disco, fibromialgia, lipedema e desidratação.\n>  *   Detalhar como cada uma dessas condições afeta as pernas e quais são os sintomas típicos.\n>  *   Incluir informações sobre os fatores de risco associados a cada causa (por exemplo, diabetes e alcoolismo na neuropatia periférica).\n>  *   **Formato:**\n>  *   Carrossel com posts individuais para cada causa principal.\n>  *   Vídeos curtos com um especialista explicando cada condição.\n>  *   Infográfico com um resumo das causas e seus sintomas.\n>  \n> \n>  **2. Tratamentos e Alívio para Dores nas Pernas:**\n> \n>  *   **Conteúdo:**\n>  *   Apresentar diversas opções de tratamento e alívio para dores nas pernas, incluindo exercícios (caminhadas, alongamentos, exercícios de força e na cadeira), fisioterapia, medicamentos (analgésicos, anti-inflamatórios, relaxantes musculares), tratamentos minimamente invasivos (angioplastia e colocação de stents) e outras abordagens (mudança de hábitos, compressas quentes, perda de peso, neuroestimulação).\n>  *   Demonstrar como cada tratamento funciona e em quais casos é mais indicado.\n>  *   Fornecer dicas práticas e exercícios simples que os idosos podem fazer em casa para aliviar a dor.\n>  *   **Formato:**\n>  *   Vídeos tutoriais ensinando exercícios e alongamentos.\n>  *   Stories com dicas rápidas sobre compressas e mudanças de hábitos.\n>  *   Postagens com informações sobre os diferentes tipos de medicamentos e tratamentos minimamente invasivos.\n>  \n> \n>  **3. Recomendações Importantes e Quando Procurar Ajuda:**\n> \n>  *   **Conteúdo:**\n>  *   Reforçar a importância de consultar um médico para identificar a causa da dor e iniciar o tratamento adequado.\n>  *   Alertar sobre a importância de não ignorar a dor e de buscar ajuda profissional.\n>  *   Explicar como o tratamento multidisciplinar pode envolver médicos, fisioterapeutas, terapeutas ocupacionais e outros profissionais.\n>  *   Abordar a importância da saúde emocional e do apoio psicológico para idosos com dor crônica.\n>  *   **Formato:**\n>  *   Posts informativos com dicas sobre como encontrar um médico e como se preparar para a consulta.\n>  *   Vídeos com depoimentos de especialistas e pacientes.\n>  *   Lives com profissionais de saúde para responder a perguntas dos seguidores.\n>  \n> \n>  **4. Prevenção de Dores nas Pernas:**\n> \n>  *   **Conteúdo:**\n>  *   Dicas de como prevenir dores nas pernas através de exercícios regulares, dieta saudável, hidratação adequada e evitar o sedentarismo.\n>  *   Informações sobre a importância de calçados adequados e de evitar hábitos que possam prejudicar a circulação.\n>  *   **Formato:**\n>  *   Infográficos com dicas de prevenção.\n>  *   Posts com receitas saudáveis e dicas de exercícios.\n>  *   Vídeos com especialistas em estilo de vida saudável.\n>  \n> \n>  **Tema Mais Relevante:**\n> \n>  Considerando a abrangência e a necessidade de informação, o tema mais relevante é **Causas Comuns de Dores nas Pernas em Idosos**. Compreender as causas é o primeiro passo para buscar o tratamento adequado e melhorar a qualidade de vida.\n> \n>  **Pontos Mais Relevantes:**\n> \n>  *   Problemas Musculares (dor miofascial, cãibras).\n>  *   Insuficiência Venosa Crônica.\n>  *   Problemas Articulares (artrite, osteoartrite).\n>  *   Neuropatia Periférica.\n>  *   Doença Arterial Periférica (DAP).\n>  *   Outras Condições (hérnia de disco, fibromialgia, lipedema, desidratação).\n> \n>  **Plano de Conteúdo:**\n> \n>  1.  **Post 1:** Introdução sobre dores nas pernas em idosos e a importância de identificar a causa.\n>  2.  **Posts 2-7:** Carrossel detalhando cada uma das principais causas (problemas musculares, insuficiência venosa, problemas articulares, neuropatia periférica, DAP e outras condições). Cada post deve explicar a condição, seus sintomas e fatores de risco.\n>  3.  **Post 8:** Resumo das causas e um incentivo para procurar um médico para diagnóstico.\n>  4.  **Stories:** Enquetes e perguntas para engajar o público sobre suas experiências com dores nas pernas.\n>  \n> \n>  Este plano permitirá criar um conteúdo informativo, educativo e relevante para o público do Instagram, abordando um problema comum na saúde do idoso.\n> \n"
          },
          "metadata": {}
        },
        {
          "output_type": "stream",
          "name": "stdout",
          "text": [
            "--------------------------------------------------------------\n",
            "\n",
            "--- 📝 Resultado do Agente 3 (Redator) ---\n",
            "\n"
          ]
        },
        {
          "output_type": "display_data",
          "data": {
            "text/plain": [
              "<IPython.core.display.Markdown object>"
            ],
            "text/markdown": "> 🚨 **Alerta Saúde: Dores nas Pernas em Idosos – O Que Você Precisa Saber!** 🚨\n> \n> Você já notou seu ente querido reclamando de dores nas pernas? 🤔 É mais comum do que imaginamos, e entender a causa é o primeiro passo para ajudar! As dores podem ter diversas origens, e hoje vamos explorar algumas delas:\n> \n> 🦵 **Problemas Musculares:** Cãibras noturnas ou dores musculares persistentes podem ser resultado de má postura, falta de alongamento ou até mesmo deficiências nutricionais. Uma massagem leve e hidratação podem ajudar!\n> \n> 🩸 **Insuficiência Venosa:** Pernas inchadas, sensação de peso e veias varicosas podem indicar problemas na circulação. Ficar muito tempo sentado ou em pé agrava a situação. Elevar as pernas e usar meias de compressão podem trazer alívio.\n> \n> 🦴 **Problemas Articulares:** Artrite e osteoartrite causam inflamação nas articulações, levando a dores, rigidez e dificuldade de movimento. A dor piora com o tempo, limitando as atividades diárias.\n> \n>  nerve **Neuropatia Periférica:** Formigamento, queimação e dor nos pés e pernas podem ser sinais de neuropatia, comum em diabéticos. O controle da glicemia e o acompanhamento médico são essenciais.\n> \n>  arteries **Doença Arterial Periférica (DAP):** Dor ao caminhar que alivia com o repouso pode indicar DAP, um problema sério de circulação. Fique atento a feridas que demoram a cicatrizar nos pés e pernas.\n> \n> ⚠️ **Outras Causas:** Hérnias de disco, fibromialgia, lipedema e até a desidratação podem causar dores nas pernas.\n> \n> 👉 **O Que Fazer?** Não ignore a dor! 👀 Consulte um médico para um diagnóstico preciso e tratamento adequado. 👨‍⚕️ Fique atento aos sinais, observe as queixas e ajude seu familiar a buscar ajuda.\n> \n> 💙 Compartilhe este post para informar mais famílias e ajude a melhorar a qualidade de vida dos nossos idosos!\n> \n> #SaúdeDoIdoso #DoresNasPernas #QualidadeDeVida #FamíliaCuidadora\n"
          },
          "metadata": {}
        },
        {
          "output_type": "stream",
          "name": "stdout",
          "text": [
            "--------------------------------------------------------------\n",
            "\n",
            "--- 📝 Resultado do Agente 4 (Revisor) ---\n",
            "\n"
          ]
        },
        {
          "output_type": "display_data",
          "data": {
            "text/plain": [
              "<IPython.core.display.Markdown object>"
            ],
            "text/markdown": "> O rascunho precisa de alguns ajustes para melhorar a clareza, o tom e a organização. Aqui estão algumas sugestões:\n> \n> *   **Título:** O título atual (\"Alerta Saúde: Dores nas Pernas em Idosos – O Que Você Precisa Saber!\") é um pouco alarmista. Sugiro algo mais informativo e menos sensacionalista, como \"Dores nas Pernas em Idosos: Causas Comuns e o Que Fazer\".\n> \n> *   **Tom:** O uso excessivo de emojis e exclamações pode não ser adequado para todos os públicos. Mantenha um tom mais informativo e profissional.\n> \n> *   **Organização:** A estrutura do texto está boa, mas pode ser aprimorada. Considere agrupar as causas por categorias (por exemplo, problemas musculares e articulares em uma seção, problemas circulatórios em outra).\n> \n> *   **Linguagem:** Evite termos muito técnicos ou explique-os de forma clara. Por exemplo, \"neuropatia periférica\" pode ser explicada como \"danos nos nervos das pernas e pés\".\n> \n> *   **Ações:** Seja mais específico sobre o que as famílias podem fazer. Em vez de apenas dizer \"consulte um médico\", sugira perguntas para fazer ao médico ou informações para levar à consulta.\n> \n> **Sugestão de revisão:**\n> \n> **Dores nas Pernas em Idosos: Causas Comuns e o Que Fazer**\n> \n> É comum queixas de dores nas pernas entre idosos, e entender a causa é fundamental para proporcionar o cuidado adequado. As dores podem ter diversas origens, e vamos explorar algumas das mais comuns:\n> \n> **Problemas Musculares e Articulares:**\n> \n> *   **Problemas Musculares:** Cãibras noturnas ou dores musculares persistentes podem ser resultado de má postura, falta de alongamento ou deficiências nutricionais. Massagens leves e hidratação podem ajudar a aliviar o desconforto.\n> *   **Problemas Articulares:** Artrite e osteoartrite causam inflamação nas articulações, levando a dores, rigidez e dificuldade de movimento. A dor pode piorar com o tempo, limitando as atividades diárias.\n> \n> **Problemas de Circulação:**\n> \n> *   **Insuficiência Venosa:** Pernas inchadas, sensação de peso e veias varicosas podem indicar problemas na circulação. Ficar muito tempo sentado ou em pé agrava a situação. Elevar as pernas e usar meias de compressão podem trazer alívio.\n> *   **Doença Arterial Periférica (DAP):** Dor ao caminhar que alivia com o repouso pode indicar DAP, um problema sério de circulação. Fique atento a feridas que demoram a cicatrizar nos pés e pernas.\n> \n> **Outras Causas:**\n> \n> *   **Neuropatia Periférica:** Formigamento, queimação e dor nos pés e pernas podem ser sinais de neuropatia, que é o dano aos nervos periféricos, comum em pessoas com diabetes. O controle da glicemia e o acompanhamento médico são essenciais.\n> *   **Outras Causas:** Hérnias de disco, fibromialgia, lipedema e até a desidratação podem causar dores nas pernas.\n> \n> **O Que Fazer?**\n> \n> Não ignore a dor! Consulte um médico para um diagnóstico preciso e tratamento adequado.\n> \n> *   **Anote os sintomas:** Quando a dor começou, qual a intensidade, o que alivia ou piora a dor.\n> *   **Histórico médico:** Informe sobre outras condições médicas preexistentes e medicamentos em uso.\n> \n> Compartilhe este post para informar mais famílias e ajude a melhorar a qualidade de vida dos nossos idosos!\n> \n> \\#SaúdeDoIdoso #DoresNasPernas #QualidadeDeVida #FamíliaCuidadora\n> \n"
          },
          "metadata": {}
        },
        {
          "output_type": "stream",
          "name": "stdout",
          "text": [
            "--------------------------------------------------------------\n"
          ]
        }
      ]
    }
  ]
}